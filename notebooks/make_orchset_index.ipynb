{
 "cells": [
  {
   "cell_type": "code",
   "execution_count": 1,
   "metadata": {},
   "outputs": [],
   "source": [
    "import os\n",
    "import csv\n",
    "import json"
   ]
  },
  {
   "cell_type": "code",
   "execution_count": 2,
   "metadata": {},
   "outputs": [],
   "source": [
    "with open(\n",
    "    \"/Users/rachelbittner/mir_datasets/Orchset/Orchset - Predominant Melodic Instruments.csv\",\n",
    "    'r') as fhandle:\n",
    "    reader = csv.reader(fhandle, delimiter=',')\n",
    "    raw_data = []\n",
    "    for line in reader:\n",
    "        if line[0] == 'excerpt':\n",
    "            header = line\n",
    "            continue\n",
    "        raw_data.append(line)\n"
   ]
  },
  {
   "cell_type": "code",
   "execution_count": 3,
   "metadata": {},
   "outputs": [
    {
     "data": {
      "text/plain": [
       "['excerpt',\n",
       " 'Predominant melodic instrument(s) description',\n",
       " 'Alternating',\n",
       " 'containsstrings',\n",
       " 'containswinds',\n",
       " 'containsbrass',\n",
       " 'Onlystrings',\n",
       " 'Onlywinds',\n",
       " 'Onlybrass']"
      ]
     },
     "execution_count": 3,
     "metadata": {},
     "output_type": "execute_result"
    }
   ],
   "source": [
    "header"
   ]
  },
  {
   "cell_type": "code",
   "execution_count": 4,
   "metadata": {},
   "outputs": [],
   "source": [
    "TF = {'TRUE': True, 'FALSE': False}\n",
    "\n",
    "index = {}\n",
    "for line in raw_data:\n",
    "    track_id = line[0].split('.')[0]\n",
    "\n",
    "    id_split = track_id.split('.')[0].split('-')\n",
    "    if id_split[0] == 'Musorgski' or id_split[0] == 'Rimski':\n",
    "        id_split[0] = '-'.join(id_split[:2])\n",
    "        id_split.pop(1)\n",
    "    \n",
    "    melodic_instruments = [s.split(',') for s in line[1].split('+')]\n",
    "    melodic_instruments = [item.lower() for sublist in melodic_instruments for item in sublist]\n",
    "    for i, inst in enumerate(melodic_instruments):\n",
    "        if inst == 'string':\n",
    "            melodic_instruments[i] = 'strings'\n",
    "        elif inst == 'winds (solo)':\n",
    "            melodic_instruments[i] = 'winds'\n",
    "    melodic_instruments = list(set(melodic_instruments))\n",
    "\n",
    "    index[track_id] = {\n",
    "        'predominant_melodic_instruments-raw': line[1],\n",
    "        'predominant_melodic_instruments-normalized': melodic_instruments,\n",
    "        'alternating_melody': TF[line[2]],\n",
    "        'contains_winds': TF[line[3]],\n",
    "        'contains_strings': TF[line[4]],\n",
    "        'contains_brass': TF[line[5]],\n",
    "        'only_strings': TF[line[6]],\n",
    "        'only_winds': TF[line[7]],\n",
    "        'only_brass': TF[line[8]],\n",
    "        'composer': id_split[0],\n",
    "        'work': '-'.join(id_split[1:-1]),\n",
    "        'excerpt': id_split[-1][2:],\n",
    "        'audio_path_stereo': 'Orchset/audio/stereo/{}.wav'.format(track_id),\n",
    "        'audio_path_mono': 'Orchset/audio/mono/{}.wav'.format(track_id),\n",
    "        'melody_path': 'Orchset/GT/{}.mel'.format(track_id)\n",
    "    }"
   ]
  },
  {
   "cell_type": "code",
   "execution_count": 7,
   "metadata": {},
   "outputs": [],
   "source": [
    "with open(\"../mir_dataset_loaders/indexes/orchset_index.json\", 'w') as fhandle:\n",
    "    json.dump(index, fhandle, indent=2)"
   ]
  },
  {
   "cell_type": "code",
   "execution_count": null,
   "metadata": {},
   "outputs": [],
   "source": []
  },
  {
   "cell_type": "code",
   "execution_count": null,
   "metadata": {},
   "outputs": [],
   "source": []
  }
 ],
 "metadata": {
  "kernelspec": {
   "display_name": "Python 3",
   "language": "python",
   "name": "python3"
  },
  "language_info": {
   "codemirror_mode": {
    "name": "ipython",
    "version": 3
   },
   "file_extension": ".py",
   "mimetype": "text/x-python",
   "name": "python",
   "nbconvert_exporter": "python",
   "pygments_lexer": "ipython3",
   "version": "3.7.2"
  }
 },
 "nbformat": 4,
 "nbformat_minor": 2
}
